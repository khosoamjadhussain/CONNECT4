{
 "cells": [
  {
   "cell_type": "code",
   "execution_count": null,
   "metadata": {},
   "outputs": [
    {
     "name": "stdout",
     "output_type": "stream",
     "text": [
      " | | | | | \n",
      "-----------\n",
      " | | | | | \n",
      "-----------\n",
      " | | | | | \n",
      "-----------\n",
      " | | | | | \n",
      "-----------\n",
      " | | | | | \n",
      "-----------\n",
      " | | | | | \n",
      "Player Turn 1\n",
      "Please enter column number: 0\n",
      "Please enter row number: 0\n",
      "X| | | | | \n",
      "-----------\n",
      " | | | | | \n",
      "-----------\n",
      " | | | | | \n",
      "-----------\n",
      " | | | | | \n",
      "-----------\n",
      " | | | | | \n",
      "-----------\n",
      " | | | | | \n",
      "Player Turn 2\n"
     ]
    }
   ],
   "source": [
    "def drawfield(field):\n",
    "    for row in range(11): #0,1,2,3,4,5,6,7,8,9,10\n",
    "        if row%2 == 0:    #0,2,4,6,8,10\n",
    "            pr = int(row/2)\n",
    "            for column in range(11): #0,1,2,3,4,5,6,7,8,9,10\n",
    "                if column%2 == 0: #0,2,4,6,8,10\n",
    "                    pc =int(column/2)\n",
    "                    if column!=10:\n",
    "                        print(field[pr][pc],end =\"\")\n",
    "                    else:\n",
    "                        print(field[pr][pc])\n",
    "                else:\n",
    "                    print(\"|\",end=\"\")\n",
    "        else:\n",
    "            print(\"-----------\")\n",
    "currentfield = [[\" \",\" \",\" \",\" \",\" \",\" \"],[\" \",\" \",\" \",\" \",\" \",\" \"],[\" \",\" \",\" \",\" \",\" \",\" \"],[\" \",\" \",\" \",\" \",\" \",\" \"],\n",
    "                [\" \",\" \",\" \",\" \",\" \",\" \"],[\" \",\" \",\" \",\" \",\" \",\" \"]]\n",
    "player = 1\n",
    "drawfield(currentfield)\n",
    "while(True):\n",
    "    print(\"Player Turn\",player)\n",
    "    movecolumn = int(input(\"Please enter column number: \"))\n",
    "    moverow = int(input(\"Please enter row number: \"))\n",
    "    if player == 1:\n",
    "        if currentfield[moverow][movecolumn] == \" \":\n",
    "            currentfield[moverow][movecolumn] = \"X\"\n",
    "            player = 2\n",
    "        else:\n",
    "            Print(\"illegal move\")\n",
    "    else:\n",
    "        if currentfield[moverow][movecolumn] == \" \":\n",
    "            currentfield[moverow][movecolumn] = \"O\"\n",
    "            player = 1\n",
    "        else:\n",
    "            print(\"illegal move\")\n",
    "    drawfield(currentfield)                    "
   ]
  },
  {
   "cell_type": "code",
   "execution_count": null,
   "metadata": {},
   "outputs": [],
   "source": [
    "def drawfield(field):\n",
    "    for row in range(11): #0,1,2,3,4,5,6,7,8,9,10\n",
    "        if row%2 == 0:    #0,2,4,6,8,10\n",
    "            for column in range(11): #0,1,2,3,4,5,6,7,8,9,10\n",
    "                if column%2 == 0:    #0,2,4,6,8,10\n",
    "                    if column!=10:\n",
    "                        print(\" \",end =\"\")\n",
    "                    else:\n",
    "                        print(\" \")\n",
    "                else:\n",
    "                    print(\"|\",end=\"\")\n",
    "        else:\n",
    "            print(\"-----------\")\n",
    "currentfield = [[\" \",\" \",\" \",\" \",\" \",\" \"],[\" \",\" \",\" \",\" \",\" \",\" \"],[\" \",\" \",\" \",\" \",\" \",\" \"],[\" \",\" \",\" \",\" \",\" \",\" \"],\n",
    "                [\" \",\" \",\" \",\" \",\" \",\" \"],[\" \",\" \",\" \",\" \",\" \",\" \"]]\n",
    "player = 1\n",
    "\n",
    "while(True):\n",
    "    print(\"Player Turn\",player)\n",
    "    movecolumn = int(input(\"please enter column number\"))\n",
    "    \n",
    "    if player == 1:\n",
    "        "
   ]
  },
  {
   "cell_type": "code",
   "execution_count": null,
   "metadata": {},
   "outputs": [],
   "source": []
  }
 ],
 "metadata": {
  "kernelspec": {
   "display_name": "Python 3",
   "language": "python",
   "name": "python3"
  },
  "language_info": {
   "codemirror_mode": {
    "name": "ipython",
    "version": 3
   },
   "file_extension": ".py",
   "mimetype": "text/x-python",
   "name": "python",
   "nbconvert_exporter": "python",
   "pygments_lexer": "ipython3",
   "version": "3.7.6"
  }
 },
 "nbformat": 4,
 "nbformat_minor": 4
}
